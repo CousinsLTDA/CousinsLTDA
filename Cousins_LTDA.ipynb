{
  "cells": [
    {
      "cell_type": "code",
      "execution_count": null,
      "metadata": {
        "colab": {
          "base_uri": "https://localhost:8080/"
        },
        "id": "K4S7n2ctFbGu",
        "outputId": "df3bbe85-7006-4ecd-a1b8-5cd6afdf4564"
      },
      "outputs": [
        {
          "name": "stdout",
          "output_type": "stream",
          "text": [
            "Requirement already satisfied: fastapi in /usr/local/lib/python3.11/dist-packages (0.116.1)\n",
            "Requirement already satisfied: uvicorn in /usr/local/lib/python3.11/dist-packages (0.35.0)\n",
            "Requirement already satisfied: google-api-python-client in /usr/local/lib/python3.11/dist-packages (2.176.0)\n",
            "Requirement already satisfied: google-auth-oauthlib in /usr/local/lib/python3.11/dist-packages (1.2.2)\n",
            "Requirement already satisfied: google-auth-httplib2 in /usr/local/lib/python3.11/dist-packages (0.2.0)\n",
            "Requirement already satisfied: pyngrok in /usr/local/lib/python3.11/dist-packages (7.2.12)\n",
            "Requirement already satisfied: starlette<0.48.0,>=0.40.0 in /usr/local/lib/python3.11/dist-packages (from fastapi) (0.47.1)\n",
            "Requirement already satisfied: pydantic!=1.8,!=1.8.1,!=2.0.0,!=2.0.1,!=2.1.0,<3.0.0,>=1.7.4 in /usr/local/lib/python3.11/dist-packages (from fastapi) (2.11.7)\n",
            "Requirement already satisfied: typing-extensions>=4.8.0 in /usr/local/lib/python3.11/dist-packages (from fastapi) (4.14.1)\n",
            "Requirement already satisfied: click>=7.0 in /usr/local/lib/python3.11/dist-packages (from uvicorn) (8.2.1)\n",
            "Requirement already satisfied: h11>=0.8 in /usr/local/lib/python3.11/dist-packages (from uvicorn) (0.16.0)\n",
            "Requirement already satisfied: httplib2<1.0.0,>=0.19.0 in /usr/local/lib/python3.11/dist-packages (from google-api-python-client) (0.22.0)\n",
            "Requirement already satisfied: google-auth!=2.24.0,!=2.25.0,<3.0.0,>=1.32.0 in /usr/local/lib/python3.11/dist-packages (from google-api-python-client) (2.38.0)\n",
            "Requirement already satisfied: google-api-core!=2.0.*,!=2.1.*,!=2.2.*,!=2.3.0,<3.0.0,>=1.31.5 in /usr/local/lib/python3.11/dist-packages (from google-api-python-client) (2.25.1)\n",
            "Requirement already satisfied: uritemplate<5,>=3.0.1 in /usr/local/lib/python3.11/dist-packages (from google-api-python-client) (4.2.0)\n",
            "Requirement already satisfied: requests-oauthlib>=0.7.0 in /usr/local/lib/python3.11/dist-packages (from google-auth-oauthlib) (2.0.0)\n",
            "Requirement already satisfied: PyYAML>=5.1 in /usr/local/lib/python3.11/dist-packages (from pyngrok) (6.0.2)\n",
            "Requirement already satisfied: googleapis-common-protos<2.0.0,>=1.56.2 in /usr/local/lib/python3.11/dist-packages (from google-api-core!=2.0.*,!=2.1.*,!=2.2.*,!=2.3.0,<3.0.0,>=1.31.5->google-api-python-client) (1.70.0)\n",
            "Requirement already satisfied: protobuf!=3.20.0,!=3.20.1,!=4.21.0,!=4.21.1,!=4.21.2,!=4.21.3,!=4.21.4,!=4.21.5,<7.0.0,>=3.19.5 in /usr/local/lib/python3.11/dist-packages (from google-api-core!=2.0.*,!=2.1.*,!=2.2.*,!=2.3.0,<3.0.0,>=1.31.5->google-api-python-client) (5.29.5)\n",
            "Requirement already satisfied: proto-plus<2.0.0,>=1.22.3 in /usr/local/lib/python3.11/dist-packages (from google-api-core!=2.0.*,!=2.1.*,!=2.2.*,!=2.3.0,<3.0.0,>=1.31.5->google-api-python-client) (1.26.1)\n",
            "Requirement already satisfied: requests<3.0.0,>=2.18.0 in /usr/local/lib/python3.11/dist-packages (from google-api-core!=2.0.*,!=2.1.*,!=2.2.*,!=2.3.0,<3.0.0,>=1.31.5->google-api-python-client) (2.32.3)\n",
            "Requirement already satisfied: cachetools<6.0,>=2.0.0 in /usr/local/lib/python3.11/dist-packages (from google-auth!=2.24.0,!=2.25.0,<3.0.0,>=1.32.0->google-api-python-client) (5.5.2)\n",
            "Requirement already satisfied: pyasn1-modules>=0.2.1 in /usr/local/lib/python3.11/dist-packages (from google-auth!=2.24.0,!=2.25.0,<3.0.0,>=1.32.0->google-api-python-client) (0.4.2)\n",
            "Requirement already satisfied: rsa<5,>=3.1.4 in /usr/local/lib/python3.11/dist-packages (from google-auth!=2.24.0,!=2.25.0,<3.0.0,>=1.32.0->google-api-python-client) (4.9.1)\n",
            "Requirement already satisfied: pyparsing!=3.0.0,!=3.0.1,!=3.0.2,!=3.0.3,<4,>=2.4.2 in /usr/local/lib/python3.11/dist-packages (from httplib2<1.0.0,>=0.19.0->google-api-python-client) (3.2.3)\n",
            "Requirement already satisfied: annotated-types>=0.6.0 in /usr/local/lib/python3.11/dist-packages (from pydantic!=1.8,!=1.8.1,!=2.0.0,!=2.0.1,!=2.1.0,<3.0.0,>=1.7.4->fastapi) (0.7.0)\n",
            "Requirement already satisfied: pydantic-core==2.33.2 in /usr/local/lib/python3.11/dist-packages (from pydantic!=1.8,!=1.8.1,!=2.0.0,!=2.0.1,!=2.1.0,<3.0.0,>=1.7.4->fastapi) (2.33.2)\n",
            "Requirement already satisfied: typing-inspection>=0.4.0 in /usr/local/lib/python3.11/dist-packages (from pydantic!=1.8,!=1.8.1,!=2.0.0,!=2.0.1,!=2.1.0,<3.0.0,>=1.7.4->fastapi) (0.4.1)\n",
            "Requirement already satisfied: oauthlib>=3.0.0 in /usr/local/lib/python3.11/dist-packages (from requests-oauthlib>=0.7.0->google-auth-oauthlib) (3.3.1)\n",
            "Requirement already satisfied: anyio<5,>=3.6.2 in /usr/local/lib/python3.11/dist-packages (from starlette<0.48.0,>=0.40.0->fastapi) (4.9.0)\n",
            "Requirement already satisfied: idna>=2.8 in /usr/local/lib/python3.11/dist-packages (from anyio<5,>=3.6.2->starlette<0.48.0,>=0.40.0->fastapi) (3.10)\n",
            "Requirement already satisfied: sniffio>=1.1 in /usr/local/lib/python3.11/dist-packages (from anyio<5,>=3.6.2->starlette<0.48.0,>=0.40.0->fastapi) (1.3.1)\n",
            "Requirement already satisfied: pyasn1<0.7.0,>=0.6.1 in /usr/local/lib/python3.11/dist-packages (from pyasn1-modules>=0.2.1->google-auth!=2.24.0,!=2.25.0,<3.0.0,>=1.32.0->google-api-python-client) (0.6.1)\n",
            "Requirement already satisfied: charset-normalizer<4,>=2 in /usr/local/lib/python3.11/dist-packages (from requests<3.0.0,>=2.18.0->google-api-core!=2.0.*,!=2.1.*,!=2.2.*,!=2.3.0,<3.0.0,>=1.31.5->google-api-python-client) (3.4.2)\n",
            "Requirement already satisfied: urllib3<3,>=1.21.1 in /usr/local/lib/python3.11/dist-packages (from requests<3.0.0,>=2.18.0->google-api-core!=2.0.*,!=2.1.*,!=2.2.*,!=2.3.0,<3.0.0,>=1.31.5->google-api-python-client) (2.4.0)\n",
            "Requirement already satisfied: certifi>=2017.4.17 in /usr/local/lib/python3.11/dist-packages (from requests<3.0.0,>=2.18.0->google-api-core!=2.0.*,!=2.1.*,!=2.2.*,!=2.3.0,<3.0.0,>=1.31.5->google-api-python-client) (2025.7.14)\n"
          ]
        }
      ],
      "source": [
        "!pip install fastapi uvicorn google-api-python-client google-auth-oauthlib google-auth-httplib2 pyngrok\n",
        "\n",
        "# Bibliotecas\n",
        "import os\n",
        "import json\n",
        "import logging\n",
        "import threading\n",
        "import base64\n",
        "import logging\n",
        "from pathlib import Path\n",
        "from datetime import datetime\n",
        "from typing import List, Optional\n",
        "from logging.handlers import RotatingFileHandler\n",
        "import sys\n",
        "\n",
        "# Google APIs\n",
        "from google.oauth2 import service_account\n",
        "from google.oauth2.credentials import Credentials\n",
        "from google.auth.transport.requests import Request\n",
        "from google_auth_oauthlib.flow import InstalledAppFlow\n",
        "from googleapiclient.discovery import build\n",
        "from googleapiclient.http import MediaFileUpload\n",
        "from googleapiclient.errors import HttpError\n",
        "\n",
        "# FastAPI\n",
        "from fastapi import FastAPI, BackgroundTasks, HTTPException\n",
        "from fastapi.responses import JSONResponse\n",
        "from pydantic import BaseModel\n",
        "\n",
        "# Ngrok e servidor\n",
        "from pyngrok import ngrok\n",
        "import nest_asyncio\n",
        "import uvicorn"
      ]
    },
    {
      "cell_type": "code",
      "execution_count": null,
      "metadata": {
        "id": "OIWKPdVyYNXn"
      },
      "outputs": [],
      "source": [
        "\n",
        "logger = logging.getLogger(__name__)\n",
        "logger.setLevel(logging.INFO)  # Configura o nível no logger principal\n",
        "\n",
        "SCOPES = [\n",
        "    'https://www.googleapis.com/auth/gmail.readonly',\n",
        "    'https://www.googleapis.com/auth/drive'\n",
        "]\n",
        "\n",
        "#Remove todos os handlers existentes\n",
        "for handler in logger.handlers[:]:\n",
        "    logger.removeHandler(handler)\n",
        "\n",
        "#Adiciona apenas um handler personalizado\n",
        "handler = logging.StreamHandler()\n",
        "handler.setFormatter(logging.Formatter('%(asctime)s - %(name)s - %(levelname)s - %(message)s'))\n",
        "logger.addHandler(handler)\n",
        "\n",
        "#Desabilita propagação para handlers de outros módulos\n",
        "logger.propagate = False\n",
        "\n",
        "#Constantes\n",
        "PORT = 8000\n",
        "CONFIGS_DIR = Path(\"configs\")\n",
        "TOKENS_DIR = Path(\"tokens\")\n",
        "NGROK_AUTH_TOKEN = \"2yvuP1kc0aUCxRb1wAy4exos2Tp_4dciWNtnLJjErWMUsePeS\"\n",
        "\n",
        "#Cria diretórios necessários\n",
        "CONFIGS_DIR.mkdir(exist_ok=True)\n",
        "TOKENS_DIR.mkdir(exist_ok=True)"
      ]
    },
    {
      "cell_type": "code",
      "execution_count": null,
      "metadata": {
        "id": "LXD6xAAVfTqL"
      },
      "outputs": [],
      "source": [
        "# Modelo Pydantic\n",
        "class AutomacaoConfig(BaseModel):\n",
        "    email: str\n",
        "    palavras_chave: List[str]\n",
        "    destino_nuvem: str\n",
        "    pasta_destino: str\n",
        "    renomear: bool\n",
        "    usar_planilha_log: bool\n",
        "    link_planilha_log: Optional[str] = None"
      ]
    },
    {
      "cell_type": "code",
      "execution_count": null,
      "metadata": {
        "id": "NVAbhH2Uf6fl"
      },
      "outputs": [],
      "source": [
        "# Inicializa FastAPI\n",
        "app = FastAPI()"
      ]
    },
    {
      "cell_type": "code",
      "execution_count": null,
      "metadata": {
        "id": "EuRlo0iZGBTX"
      },
      "outputs": [],
      "source": [
        "def processar_anexos(service, message: dict, destino_local: str = \"downloads\") -> List[str]:\n",
        "    \"\"\"Processa e salva anexos de uma mensagem do Gmail\"\"\"\n",
        "    try:\n",
        "        os.makedirs(destino_local, exist_ok=True)\n",
        "        arquivos = []\n",
        "\n",
        "        #Verifica se a mensagem tem partes\n",
        "        if 'parts' not in message['payload']:\n",
        "            return arquivos\n",
        "\n",
        "        for part in message['payload']['parts']:\n",
        "            if part.get('filename') and part['body'].get('attachmentId'):\n",
        "                try:\n",
        "                    #Obtém o anexo\n",
        "                    attachment = service.users().messages().attachments().get(\n",
        "                        userId='me',\n",
        "                        messageId=message['id'],\n",
        "                        id=part['body']['attachmentId']\n",
        "                    ).execute()\n",
        "\n",
        "                    #Decodifica e salva o arquivo\n",
        "                    file_data = base64.urlsafe_b64decode(attachment['data'].encode('UTF-8'))\n",
        "                    file_path = os.path.join(destino_local, part['filename'])\n",
        "\n",
        "                    with open(file_path, 'wb') as f:\n",
        "                        f.write(file_data)\n",
        "\n",
        "                    arquivos.append(file_path)\n",
        "                    logger.info(f\"Anexo salvo: {file_path}\")\n",
        "\n",
        "                except Exception as e:\n",
        "                    logger.error(f\"Erro ao processar anexo {part.get('filename')}: {str(e)}\")\n",
        "                    continue\n",
        "\n",
        "        return arquivos\n",
        "\n",
        "    except Exception as e:\n",
        "        logger.error(f\"Erro geral ao processar anexos: {str(e)}\")\n",
        "        return []"
      ]
    },
    {
      "cell_type": "code",
      "execution_count": null,
      "metadata": {
        "id": "pXTwyVbsGXtv"
      },
      "outputs": [],
      "source": [
        "def escolher_credenciais():\n",
        "    \"\"\"\n",
        "    Se houver tokens em 'tokens/', pede para o usuário escolher.\n",
        "    Se não houver, executa fluxo OAuth manual para gerar o primeiro token.\n",
        "    \"\"\"\n",
        "    TOKEN_DIR = 'tokens'\n",
        "    SCOPES = [\n",
        "        'https://www.googleapis.com/auth/gmail.readonly',\n",
        "        'https://www.googleapis.com/auth/drive'\n",
        "    ]\n",
        "\n",
        "    if not os.path.exists(TOKEN_DIR):\n",
        "        os.makedirs(TOKEN_DIR)\n",
        "\n",
        "    tokens = [f for f in os.listdir(TOKEN_DIR) if f.endswith('.json')]\n",
        "\n",
        "    if not tokens:\n",
        "        print(\"Nenhum token encontrado. Iniciando geração de um novo token.\")\n",
        "\n",
        "        email_hint = input(\"Digite um e-mail para a autorização: \").strip() or None\n",
        "\n",
        "        flow = InstalledAppFlow.from_client_secrets_file(\n",
        "            'credentials.json',\n",
        "            scopes=SCOPES,\n",
        "            redirect_uri='urn:ietf:wg:oauth:2.0:oob'\n",
        "        )\n",
        "\n",
        "        auth_url, _ = flow.authorization_url(\n",
        "            access_type='offline',\n",
        "            prompt='consent',\n",
        "            login_hint=email_hint\n",
        "        )\n",
        "\n",
        "        print(\"Abra este link para autorizar o acesso:\")\n",
        "        print(auth_url)\n",
        "\n",
        "        code = input(\"Cole aqui o código de autorização: \")\n",
        "\n",
        "        flow.fetch_token(code=code)\n",
        "\n",
        "        creds = flow.credentials\n",
        "\n",
        "        email_salvar = input(\"Digite um nome para o token: \")\n",
        "        token_path = os.path.join(TOKEN_DIR, f'token_{email_salvar.replace(\"@\", \"_at_\").replace(\".\", \"_dot_\")}.json')\n",
        "\n",
        "        with open(token_path, 'w') as token_file:\n",
        "            token_file.write(creds.to_json())\n",
        "\n",
        "        print(f\"Token salvo em: {token_path}\")\n",
        "        return creds\n",
        "\n",
        "    else:\n",
        "        print(\"Tokens disponíveis:\")\n",
        "        for idx, nome in enumerate(tokens, 1):\n",
        "            print(f\"{idx}. {nome}\")\n",
        "\n",
        "        while True:\n",
        "            try:\n",
        "                escolha = int(input(f\"Escolha um token (1-{len(tokens)}): \"))\n",
        "                if 1 <= escolha <= len(tokens):\n",
        "                    break\n",
        "                else:\n",
        "                    print(\"Opção inválida. Tente novamente.\")\n",
        "            except ValueError:\n",
        "                print(\"Digite um número válido.\")\n",
        "\n",
        "        token_escolhido = os.path.join(TOKEN_DIR, tokens[escolha - 1])\n",
        "        print(f\"Usando token: {token_escolhido}\")\n",
        "        creds = Credentials.from_authorized_user_file(token_escolhido, SCOPES)\n",
        "        return creds"
      ]
    },
    {
      "cell_type": "code",
      "execution_count": null,
      "metadata": {
        "colab": {
          "base_uri": "https://localhost:8080/"
        },
        "id": "9W18KGx1Iq2I",
        "outputId": "6c200f2e-4d65-47f4-97a0-05d6d682885e"
      },
      "outputs": [
        {
          "name": "stdout",
          "output_type": "stream",
          "text": [
            "Nenhum token encontrado. Iniciando geração de um novo token.\n",
            "Digite um e-mail para a autorização: leonardo.distante@gmail.com\n",
            "Abra este link para autorizar o acesso:\n",
            "https://accounts.google.com/o/oauth2/auth?response_type=code&client_id=812839091248-brlged2alguefhcovkfceo2akrq8gqfv.apps.googleusercontent.com&redirect_uri=urn%3Aietf%3Awg%3Aoauth%3A2.0%3Aoob&scope=https%3A%2F%2Fwww.googleapis.com%2Fauth%2Fgmail.readonly+https%3A%2F%2Fwww.googleapis.com%2Fauth%2Fdrive&state=a56xfmiLeKIQ9fVFKhdHtQ9H5SkE9X&access_type=offline&prompt=consent&login_hint=leonardo.distante%40gmail.com\n",
            "Cole aqui o código de autorização: 4/1AVMBsJgXv9IYZ3QrnsuCSRazvWL5ETaKzCQpPpOxRKEBaJ-NCJw5zkUC06I\n",
            "Digite um nome para o token: leonardo\n",
            "Token salvo em: tokens/token_leonardo.json\n"
          ]
        }
      ],
      "source": [
        "credenciais_escolhidas = escolher_credenciais()"
      ]
    },
    {
      "cell_type": "code",
      "execution_count": null,
      "metadata": {
        "id": "jiZ6897gTL1T"
      },
      "outputs": [],
      "source": [
        "def upload_para_drive(caminho_arquivo: str, pasta_id: str) -> str:\n",
        "    \"\"\"Faz upload de um arquivo para o Google Drive\"\"\"\n",
        "    try:\n",
        "        creds = credenciais_escolhidas\n",
        "\n",
        "        service = build('drive', 'v3', credentials=creds)\n",
        "\n",
        "        file_metadata = {\n",
        "            'name': os.path.basename(caminho_arquivo),\n",
        "            'parents': [pasta_id]\n",
        "        }\n",
        "\n",
        "        media = MediaFileUpload(caminho_arquivo)\n",
        "\n",
        "        file = service.files().create(\n",
        "            body=file_metadata,\n",
        "            media_body=media,\n",
        "            fields='id'\n",
        "        ).execute()\n",
        "\n",
        "        logger.info(f\"Arquivo {caminho_arquivo} enviado para Drive com ID: {file.get('id')}\")\n",
        "        return file.get('id')\n",
        "\n",
        "    except Exception as e:\n",
        "        logger.error(f\"Erro no upload para Drive: {str(e)}\")\n",
        "        raise"
      ]
    },
    {
      "cell_type": "code",
      "execution_count": null,
      "metadata": {
        "id": "SzP42GrBGIR5"
      },
      "outputs": [],
      "source": [
        "@app.post(\"/api/configurar-automacao\")\n",
        "async def configurar_automacao(config: AutomacaoConfig, background_tasks: BackgroundTasks):\n",
        "    try:\n",
        "        # Salva configuração\n",
        "        config_path = CONFIGS_DIR / f\"{config.email}.json\"\n",
        "        with open(config_path, 'w') as f:\n",
        "            json.dump(config.dict(), f, indent=2)\n",
        "\n",
        "        # Verifica credenciais (agora usando apenas a variável global)\n",
        "        if not credenciais_escolhidas:\n",
        "            raise HTTPException(status_code=401, detail=\"Nenhuma credencial configurada\")\n",
        "\n",
        "        if not credenciais_escolhidas.valid:\n",
        "            try:\n",
        "                credenciais_escolhidas.refresh(Request())\n",
        "            except Exception as e:\n",
        "                raise HTTPException(status_code=401, detail=f\"Credenciais expiradas e falha ao renovar: {str(e)}\")\n",
        "\n",
        "        service = build('gmail', 'v1', credentials=credenciais_escolhidas)\n",
        "\n",
        "        #Busca mensagens\n",
        "        query = f\"from:{config.email} OR subject:{' OR subject:'.join(config.palavras_chave)} has:attachment\"\n",
        "        results = service.users().messages().list(\n",
        "            userId='me',\n",
        "            q=query,\n",
        "            maxResults=20\n",
        "        ).execute()\n",
        "\n",
        "        messages = results.get('messages', [])\n",
        "\n",
        "        #Processa mensagens\n",
        "        arquivos_processados = []\n",
        "        for msg in messages:\n",
        "            try:\n",
        "                full_msg = service.users().messages().get(\n",
        "                    userId='me',\n",
        "                    id=msg['id'],\n",
        "                    format='full'\n",
        "                ).execute()\n",
        "\n",
        "                arquivos = processar_anexos(service, full_msg)\n",
        "                arquivos_processados.extend(arquivos)\n",
        "\n",
        "                # Envia para o Google Drive\n",
        "                if config.destino_nuvem.lower() == \"google drive\":\n",
        "                    for arquivo in arquivos:\n",
        "                        background_tasks.add_task(\n",
        "                            upload_para_drive,\n",
        "                            arquivo,\n",
        "                            config.pasta_destino\n",
        "                        )\n",
        "\n",
        "            except Exception as e:\n",
        "                logger.error(f\"Erro ao processar mensagem {msg['id']}: {e}\")\n",
        "                continue\n",
        "\n",
        "        return {\n",
        "            \"status\": \"success\",\n",
        "            \"email\": config.email,\n",
        "            \"arquivos_processados\": len(arquivos_processados),\n",
        "            \"mensagens_processadas\": len(messages)\n",
        "        }\n",
        "\n",
        "    except Exception as e:\n",
        "        logger.error(f\"Erro no endpoint: {str(e)}\")\n",
        "        raise HTTPException(status_code=500, detail=str(e))"
      ]
    },
    {
      "cell_type": "code",
      "execution_count": null,
      "metadata": {
        "id": "UbIA12GzTFC3"
      },
      "outputs": [],
      "source": [
        "@app.get(\"/api/configs\")\n",
        "async def listar_configs():\n",
        "    \"\"\"Lista todas as configurações salvas\"\"\"\n",
        "    configs = []\n",
        "    for config_file in CONFIGS_DIR.glob(\"*.json\"):\n",
        "        with open(config_file, 'r') as f:\n",
        "            configs.append(json.load(f))\n",
        "    return configs\n"
      ]
    },
    {
      "cell_type": "code",
      "execution_count": null,
      "metadata": {
        "colab": {
          "background_save": true,
          "base_uri": "https://localhost:8080/"
        },
        "id": "cGZxgu8wTOix",
        "outputId": "96d5449a-08fc-434e-f18a-ddc754125914"
      },
      "outputs": [
        {
          "name": "stderr",
          "output_type": "stream",
          "text": [
            "INFO:     Started server process [4181]\n",
            "INFO:     Waiting for application startup.\n",
            "INFO:     Application startup complete.\n",
            "INFO:     Uvicorn running on http://0.0.0.0:8000 (Press CTRL+C to quit)\n"
          ]
        },
        {
          "name": "stdout",
          "output_type": "stream",
          "text": [
            ""
          ]
        },
        {
          "name": "stderr",
          "output_type": "stream",
          "text": [
            "2025-07-18 15:21:42,448 - __main__ - INFO - \n",
            "==================================================\n",
            "2025-07-18 15:21:42,449 - __main__ - INFO - Servidor rodando localmente em: http://localhost:8000\n",
            "2025-07-18 15:21:42,450 - __main__ - INFO - URL pública Ngrok: https://6a74cff9c290.ngrok-free.app\n",
            "2025-07-18 15:21:42,453 - __main__ - INFO - Documentação Swagger: https://6a74cff9c290.ngrok-free.app/docs\n",
            "2025-07-18 15:21:42,461 - __main__ - INFO - Documentação Redoc: https://6a74cff9c290.ngrok-free.app/redoc\n",
            "2025-07-18 15:21:42,462 - __main__ - INFO - ==================================================\n",
            "\n",
            "2025-07-18 15:21:42,464 - __main__ - INFO - Pressione Ctrl+C para encerrar\n",
            "\n"
          ]
        },
        {
          "name": "stdout",
          "output_type": "stream",
          "text": [
            "INFO:     2804:14d:6891:8a91:d595:fe60:57a0:abb0:0 - \"GET /docs HTTP/1.1\" 200 OK\n",
            "INFO:     2804:14d:6891:8a91:d595:fe60:57a0:abb0:0 - \"GET /openapi.json HTTP/1.1\" 200 OK\n"
          ]
        },
        {
          "name": "stderr",
          "output_type": "stream",
          "text": [
            "/tmp/ipython-input-9-2897591255.py:7: PydanticDeprecatedSince20: The `dict` method is deprecated; use `model_dump` instead. Deprecated in Pydantic V2.0 to be removed in V3.0. See Pydantic V2 Migration Guide at https://errors.pydantic.dev/2.11/migration/\n",
            "  json.dump(config.dict(), f, indent=2)\n",
            "2025-07-18 15:22:21,757 - __main__ - INFO - Anexo salvo: downloads/35240247960950020157550020000968371055935836.xml\n",
            "2025-07-18 15:22:22,040 - __main__ - INFO - Anexo salvo: downloads/35240247960950020157550020000968371055935836.pdf\n",
            "2025-07-18 15:22:22,452 - __main__ - INFO - Anexo salvo: downloads/31241219324150000260550010000163971060684047-nfe.xml\n",
            "2025-07-18 15:22:22,705 - __main__ - INFO - Anexo salvo: downloads/01e752e598ad4ce5fc1f9b5260db42d6.pdf\n",
            "2025-07-18 15:22:23,150 - __main__ - INFO - Anexo salvo: downloads/35190958732058000290550160002589491008172648-nfe.xml\n",
            "2025-07-18 15:22:23,405 - __main__ - INFO - Anexo salvo: downloads/35190958732058000290550160002589491008172648-nfe.pdf\n",
            "2025-07-18 15:22:24,007 - __main__ - INFO - Anexo salvo: downloads/projeto-prototype-463919-8822805271f3.json\n",
            "2025-07-18 15:22:24,922 - __main__ - INFO - Anexo salvo: downloads/Currículo (2) Leonardo de Oliveira Michelan- 2025 (2).pdf\n",
            "2025-07-18 15:22:25,381 - __main__ - INFO - Anexo salvo: downloads/poe2filter (7).filter\n"
          ]
        },
        {
          "name": "stdout",
          "output_type": "stream",
          "text": [
            "INFO:     2804:14d:6891:8a91:d595:fe60:57a0:abb0:0 - \"POST /api/configurar-automacao HTTP/1.1\" 200 OK\n"
          ]
        },
        {
          "name": "stderr",
          "output_type": "stream",
          "text": [
            "2025-07-18 15:22:26,966 - __main__ - INFO - Arquivo downloads/35240247960950020157550020000968371055935836.xml enviado para Drive com ID: 1g1NBF-HU-24BRWSeEZtG2j3tUvk3grDr\n",
            "2025-07-18 15:22:28,530 - __main__ - INFO - Arquivo downloads/35240247960950020157550020000968371055935836.pdf enviado para Drive com ID: 1f8-p3FlGCWHEfzZhPm4u4fQQGqSs6XWO\n",
            "2025-07-18 15:22:30,012 - __main__ - INFO - Arquivo downloads/31241219324150000260550010000163971060684047-nfe.xml enviado para Drive com ID: 1Z2RdklZE9535OwU5TOk_nfvUaZUX2j1S\n",
            "2025-07-18 15:22:31,409 - __main__ - INFO - Arquivo downloads/01e752e598ad4ce5fc1f9b5260db42d6.pdf enviado para Drive com ID: 1Ivy_OhUxju0MkiStjDFVzJYCW3JYxO7_\n",
            "2025-07-18 15:22:33,099 - __main__ - INFO - Arquivo downloads/35190958732058000290550160002589491008172648-nfe.xml enviado para Drive com ID: 1IpBoPw9y28ml-AmXOLNnt7CtcubJP66b\n",
            "2025-07-18 15:22:34,634 - __main__ - INFO - Arquivo downloads/35190958732058000290550160002589491008172648-nfe.pdf enviado para Drive com ID: 1-hU0aChjxDLgRO_Dgqu7IRhu-jcpRz4A\n",
            "2025-07-18 15:22:36,105 - __main__ - INFO - Arquivo downloads/projeto-prototype-463919-8822805271f3.json enviado para Drive com ID: 1voCtcjyWvAronF0aNFiZkQkPFsaIOH0p\n",
            "2025-07-18 15:22:37,573 - __main__ - INFO - Arquivo downloads/Currículo (2) Leonardo de Oliveira Michelan- 2025 (2).pdf enviado para Drive com ID: 1X_7Q80tDsU4AQTizgN6zkwzndFv4PIvq\n",
            "2025-07-18 15:22:38,921 - __main__ - INFO - Arquivo downloads/poe2filter (7).filter enviado para Drive com ID: 10CPbFXkxBUwt8wVonfM4MyHJxt1NY0LN\n"
          ]
        }
      ],
      "source": [
        "if __name__ == \"__main__\":\n",
        "    try:\n",
        "        # Configuração de logging\n",
        "        logger = logging.getLogger(__name__)\n",
        "        logger.setLevel(logging.INFO)\n",
        "\n",
        "        # Remove handlers existentes (evita duplicação)\n",
        "        for handler in logger.handlers[:]:\n",
        "            logger.removeHandler(handler)\n",
        "\n",
        "        # Configura handler personalizado\n",
        "        handler = logging.StreamHandler()\n",
        "        handler.setFormatter(logging.Formatter(\n",
        "            '%(asctime)s - %(name)s - %(levelname)s - %(message)s'\n",
        "        ))\n",
        "        logger.addHandler(handler)\n",
        "        logger.propagate = False\n",
        "\n",
        "        try:\n",
        "            current_file = Path(__file__).stem\n",
        "            app_str = f\"{current_file}:app\"\n",
        "        except NameError:\n",
        "            app_str = \"__main__:app\"\n",
        "\n",
        "        # Iniciar servidor Uvicorn em thread separada\n",
        "        def run_server():\n",
        "            uvicorn.run(\n",
        "                app_str,\n",
        "                host=\"0.0.0.0\",\n",
        "                port=PORT,\n",
        "                log_level=\"info\",\n",
        "                reload=False,\n",
        "                workers=1\n",
        "            )\n",
        "\n",
        "        server_thread = threading.Thread(target=run_server, daemon=True)\n",
        "        server_thread.start()\n",
        "\n",
        "        # Esperar o servidor iniciar\n",
        "        import time\n",
        "        time.sleep(5)\n",
        "\n",
        "        # Configurar Ngrok\n",
        "        ngrok.set_auth_token(NGROK_AUTH_TOKEN)\n",
        "        nest_asyncio.apply()\n",
        "\n",
        "        try:\n",
        "            # Criar túnel ngrok\n",
        "            public_url = ngrok.connect(PORT, bind_tls=True).public_url\n",
        "            logger.info(f\"\\n{'='*50}\")\n",
        "            logger.info(f\"Servidor rodando localmente em: http://localhost:{PORT}\")\n",
        "            logger.info(f\"URL pública Ngrok: {public_url}\")\n",
        "            logger.info(f\"Documentação Swagger: {public_url}/docs\")\n",
        "            logger.info(f\"Documentação Redoc: {public_url}/redoc\")\n",
        "            logger.info(f\"{'='*50}\\n\")\n",
        "            logger.info(\"Pressione Ctrl+C para encerrar\\n\")\n",
        "\n",
        "            # Manter a aplicação rodando\n",
        "            while True:\n",
        "                time.sleep(1)\n",
        "\n",
        "        except Exception as e:\n",
        "            logger.error(f\"Erro ao conectar Ngrok: {str(e)}\")\n",
        "            raise\n",
        "\n",
        "    except KeyboardInterrupt:\n",
        "        logger.info(\"\\n Encerrando servidor\")\n",
        "        ngrok.kill()  # Encerrar todos os túneis\n",
        "        sys.exit(0)\n",
        "\n",
        "    except Exception as e:\n",
        "        logger.critical(f\"Erro crítico: {str(e)}\")\n",
        "        ngrok.kill()\n",
        "        sys.exit(1)"
      ]
    }
  ],
  "metadata": {
    "colab": {
      "provenance": []
    },
    "kernelspec": {
      "display_name": "Python 3",
      "name": "python3"
    },
    "language_info": {
      "name": "python"
    }
  },
  "nbformat": 4,
  "nbformat_minor": 0
}